{
  "nbformat": 4,
  "nbformat_minor": 0,
  "metadata": {
    "colab": {
      "name": "simple_linear_model",
      "version": "0.3.2",
      "provenance": [],
      "collapsed_sections": []
    },
    "kernelspec": {
      "name": "python3",
      "display_name": "Python 3"
    }
  },
  "cells": [
    {
      "cell_type": "code",
      "metadata": {
        "id": "nMYAmQJGawVf",
        "colab_type": "code",
        "colab": {}
      },
      "source": [
        "#import \n",
        "%matplotlib inline\n",
        "import matplotlib.pyplot as plt \n",
        "import tensorflow as tf\n",
        "import numpy as np\n",
        "from sklearn.metrics import confusion_matrix"
      ],
      "execution_count": 0,
      "outputs": []
    },
    {
      "cell_type": "code",
      "metadata": {
        "id": "Fu2zkoa3bpv8",
        "colab_type": "code",
        "outputId": "9618b388-dd77-479b-c6fa-7d4b66f01d96",
        "colab": {
          "base_uri": "https://localhost:8080/",
          "height": 272
        }
      },
      "source": [
        "import os\n",
        "work_dir = \"/content/TensorFlow-Tutorials/\"\n",
        "if os.getcwd() != work_dir:\n",
        "  !git clone https://github.com/Hvass-Labs/TensorFlow-Tutorials\n",
        "os.chdir(work_dir)\n",
        "\n",
        "#Load Data\n",
        "from mnist import MNIST\n",
        "data = MNIST(data_dir=\"data/MNIST/\")"
      ],
      "execution_count": 2,
      "outputs": [
        {
          "output_type": "stream",
          "text": [
            "Cloning into 'TensorFlow-Tutorials'...\n",
            "remote: Enumerating objects: 6, done.\u001b[K\n",
            "remote: Counting objects: 100% (6/6), done.\u001b[K\n",
            "remote: Compressing objects: 100% (5/5), done.\u001b[K\n",
            "remote: Total 477 (delta 1), reused 3 (delta 1), pack-reused 471\u001b[K\n",
            "Receiving objects: 100% (477/477), 62.81 MiB | 33.26 MiB/s, done.\n",
            "Resolving deltas: 100% (223/223), done.\n",
            "Downloading train-images-idx3-ubyte.gz ...\n",
            "- Download progress: 100.0% Done!\n",
            "Downloading train-labels-idx1-ubyte.gz ...\n",
            "- Download progress: 100.0% Done!\n",
            "Downloading t10k-images-idx3-ubyte.gz ...\n",
            "- Download progress: 100.0% Done!\n",
            "Downloading t10k-labels-idx1-ubyte.gz ...\n",
            "- Download progress: 100.0% Done!\n"
          ],
          "name": "stdout"
        }
      ]
    },
    {
      "cell_type": "code",
      "metadata": {
        "id": "QWL3MtRpb7tV",
        "colab_type": "code",
        "outputId": "01f057c2-e9a8-426b-ea41-a45d48532ccd",
        "colab": {
          "base_uri": "https://localhost:8080/",
          "height": 85
        }
      },
      "source": [
        "print(\"Size of :\")\n",
        "print(\"- Training-set:\\t\\t{}\".format(data.num_train))\n",
        "print(\"- Validation-set:\\t{}\".format(data.num_val))\n",
        "print(\"- Test-set:\\t\\t{}\".format(data.num_test))\n"
      ],
      "execution_count": 3,
      "outputs": [
        {
          "output_type": "stream",
          "text": [
            "Size of :\n",
            "- Training-set:\t\t55000\n",
            "- Validation-set:\t5000\n",
            "- Test-set:\t\t10000\n"
          ],
          "name": "stdout"
        }
      ]
    },
    {
      "cell_type": "code",
      "metadata": {
        "id": "AK8ayojLpn0O",
        "colab_type": "code",
        "colab": {}
      },
      "source": [
        "#The images are stored in one-dimensional arrays of this length.\n",
        "img_size_flat = data.img_size_flat\n",
        "\n",
        "#Tuple with height and width of images used to reshape arrays.\n",
        "img_shape = data.img_shape\n",
        "\n",
        "#Number of classes , one class for each of 10 digits.\n",
        "num_classes = data.num_classes"
      ],
      "execution_count": 0,
      "outputs": []
    },
    {
      "cell_type": "code",
      "metadata": {
        "id": "8gm94ez5rEh7",
        "colab_type": "code",
        "outputId": "dd385279-5931-4cba-a65c-d668fcca7af0",
        "colab": {
          "base_uri": "https://localhost:8080/",
          "height": 102
        }
      },
      "source": [
        "data.y_test[0:5,:]"
      ],
      "execution_count": 28,
      "outputs": [
        {
          "output_type": "execute_result",
          "data": {
            "text/plain": [
              "array([[0., 0., 0., 0., 0., 0., 0., 1., 0., 0.],\n",
              "       [0., 0., 1., 0., 0., 0., 0., 0., 0., 0.],\n",
              "       [0., 1., 0., 0., 0., 0., 0., 0., 0., 0.],\n",
              "       [1., 0., 0., 0., 0., 0., 0., 0., 0., 0.],\n",
              "       [0., 0., 0., 0., 1., 0., 0., 0., 0., 0.]])"
            ]
          },
          "metadata": {
            "tags": []
          },
          "execution_count": 28
        }
      ]
    },
    {
      "cell_type": "code",
      "metadata": {
        "id": "zkM8t709COmB",
        "colab_type": "code",
        "outputId": "6e12a550-19ec-401f-adc6-da80645ad984",
        "colab": {
          "base_uri": "https://localhost:8080/",
          "height": 34
        }
      },
      "source": [
        "data.y_test_cls[0:5]"
      ],
      "execution_count": 6,
      "outputs": [
        {
          "output_type": "execute_result",
          "data": {
            "text/plain": [
              "array([7, 2, 1, 0, 4])"
            ]
          },
          "metadata": {
            "tags": []
          },
          "execution_count": 6
        }
      ]
    },
    {
      "cell_type": "code",
      "metadata": {
        "id": "XX0V62vzCYCc",
        "colab_type": "code",
        "colab": {}
      },
      "source": [
        "def plot_images(images,cls_true,cls_pred=None):\n",
        "  assert len(images) == len(cls_true)==9\n",
        "  \n",
        "  #create figure with 3*3 sub -plots\n",
        "  fig,axes = plt.subplots(3,3)\n",
        "  fig.subplots_adjust(hspace = 0.3 , wspace = 0.3)\n",
        "  \n",
        "  for  i , ax in enumerate(axes.flat):\n",
        "      #plot image\n",
        "      ax.imshow(images[i].reshape(img_shape),cmap=\"binary\")\n",
        "      \n",
        "      #show true and predicted classes.\n",
        "      if cls_pred is None:\n",
        "        xlabel = \"True : {0}\".format(cls_true[i])\n",
        "      else:\n",
        "        xlabel = \"True : {0},pred : {1}\".format(cls_true[i],cls_pred[i])\n",
        "       \n",
        "      ax.set_xlabel(xlabel)\n",
        "      \n",
        "      #Remove ticks from the plot.\n",
        "      ax.set_xticks([])\n",
        "      ax.set_yticks([])\n",
        "    \n",
        "   #Ensure that plot is shown correctly\n",
        "  plt.show()"
      ],
      "execution_count": 0,
      "outputs": []
    },
    {
      "cell_type": "code",
      "metadata": {
        "id": "2yL8eAwNExeH",
        "colab_type": "code",
        "outputId": "de47d8a9-4c39-48b4-dfb5-997c1cb9f77a",
        "colab": {
          "base_uri": "https://localhost:8080/",
          "height": 266
        }
      },
      "source": [
        "# Get the first images from the test-set.\n",
        "images = data.x_test[0:9]\n",
        "\n",
        "# Get the true classes for those images.\n",
        "cls_true = data.y_test_cls[0:9]\n",
        "\n",
        "# Plot the images and labels using our helper-function above.\n",
        "plot_images(images=images, cls_true=cls_true)"
      ],
      "execution_count": 8,
      "outputs": [
        {
          "output_type": "display_data",
          "data": {
            "image/png": "[encoded data removed]",
            "text/plain": [
              "<Figure size 432x288 with 9 Axes>"
            ]
          },
          "metadata": {
            "tags": []
          }
        }
      ]
    },
    {
      "cell_type": "code",
      "metadata": {
        "id": "jiz_QcKCREYe",
        "colab_type": "code",
        "colab": {}
      },
      "source": [
        ""
      ],
      "execution_count": 0,
      "outputs": []
    },
    {
      "cell_type": "code",
      "metadata": {
        "id": "E5pTtu-VHZsM",
        "colab_type": "code",
        "colab": {}
      },
      "source": [
        "#Placeholder variable\n",
        "x= tf.placeholder(tf.float32,[None,img_size_flat])\n",
        "\n",
        "y_true = tf.placeholder(tf.float32,[None , num_classes])\n",
        "\n",
        "y_true_cls = tf.placeholder(tf.int64,[None])\n"
      ],
      "execution_count": 0,
      "outputs": []
    },
    {
      "cell_type": "code",
      "metadata": {
        "id": "stfPRRXjNPp8",
        "colab_type": "code",
        "colab": {}
      },
      "source": [
        "weights = tf.Variable(tf.zeros([img_size_flat,num_classes]))\n",
        "\n",
        "biases = tf.Variable(tf.zeros([num_classes]))\n"
      ],
      "execution_count": 0,
      "outputs": []
    },
    {
      "cell_type": "code",
      "metadata": {
        "id": "KoF15fExOrJg",
        "colab_type": "code",
        "colab": {}
      },
      "source": [
        "logits = tf.matmul(x,weights) + biases"
      ],
      "execution_count": 0,
      "outputs": []
    },
    {
      "cell_type": "code",
      "metadata": {
        "id": "sSNTYTqaQGaH",
        "colab_type": "code",
        "colab": {}
      },
      "source": [
        "y_pred  = tf.nn.softmax(logits)"
      ],
      "execution_count": 0,
      "outputs": []
    },
    {
      "cell_type": "code",
      "metadata": {
        "id": "CjnoPMV1QWMH",
        "colab_type": "code",
        "colab": {}
      },
      "source": [
        "y_pred_cls = tf.argmax(y_pred,axis = 1)"
      ],
      "execution_count": 0,
      "outputs": []
    },
    {
      "cell_type": "code",
      "metadata": {
        "id": "1eWc5TiyyWs7",
        "colab_type": "code",
        "colab": {}
      },
      "source": [
        ""
      ],
      "execution_count": 0,
      "outputs": []
    },
    {
      "cell_type": "code",
      "metadata": {
        "id": "-skKkIZURGM7",
        "colab_type": "code",
        "colab": {}
      },
      "source": [
        "cross_entropy = tf.nn.softmax_cross_entropy_with_logits_v2(logits=logits,labels = y_true)"
      ],
      "execution_count": 0,
      "outputs": []
    },
    {
      "cell_type": "code",
      "metadata": {
        "id": "LRHVlwcSRXos",
        "colab_type": "code",
        "colab": {}
      },
      "source": [
        "cost = tf.reduce_mean(cross_entropy)\n"
      ],
      "execution_count": 0,
      "outputs": []
    },
    {
      "cell_type": "code",
      "metadata": {
        "id": "ANLMH6NaSOTE",
        "colab_type": "code",
        "colab": {}
      },
      "source": [
        "#optimizer\n",
        "optimizer = tf.train.GradientDescentOptimizer(learning_rate = 0.5).minimize(cost)\n"
      ],
      "execution_count": 0,
      "outputs": []
    },
    {
      "cell_type": "code",
      "metadata": {
        "id": "1GUjI3fV14XH",
        "colab_type": "code",
        "colab": {}
      },
      "source": [
        "#Performance measure\n",
        "correct_prediction = tf.equal(y_pred_cls,y_true_cls)\n",
        "\n",
        "accuracy = tf.reduce_mean(tf.cast(correct_prediction,tf.float32))"
      ],
      "execution_count": 0,
      "outputs": []
    },
    {
      "cell_type": "code",
      "metadata": {
        "id": "Azlh5U852V9C",
        "colab_type": "code",
        "colab": {}
      },
      "source": [
        "#Tensorflow run\n",
        "#to execute the graph.\n",
        "session = tf.Session()\n"
      ],
      "execution_count": 0,
      "outputs": []
    },
    {
      "cell_type": "code",
      "metadata": {
        "id": "fnyl8ncF2xeU",
        "colab_type": "code",
        "colab": {}
      },
      "source": [
        "session.run(tf.global_variables_initializer())\n",
        "batch_size = 100"
      ],
      "execution_count": 0,
      "outputs": []
    },
    {
      "cell_type": "code",
      "metadata": {
        "id": "b6ND0xF83-pl",
        "colab_type": "code",
        "colab": {}
      },
      "source": [
        "def optimize(num_iterations):\n",
        "  for i in range(num_iterations):\n",
        "      #Get a batch of training examples.\n",
        "      #x_batch now holds a batch of images and \n",
        "      #y_true_batch are the true labels of those batch images.\n",
        "      x_batch ,y_true_batch ,_ = data.random_batch(batch_size= batch_size)\n",
        "      \n",
        "      #put the batch into a dict with the proper names\n",
        "      #for placeholder variables in the Tensorflow graph.\n",
        "      #Note that the plceholder for y_true_cls is not set #\n",
        "      #because it is not used during training.\n",
        "      feed_dict_train = {x:x_batch,\n",
        "                        y_true : y_true_batch}\n",
        "      \n",
        "      #Run the optimizer using this batch of training data .\n",
        "      #TensorFlow assigns the variables in feed_dict_train\n",
        "      #to the placeholder variables and then runs the optimizer.\n",
        "      session.run(optimizer,feed_dict_train)"
      ],
      "execution_count": 0,
      "outputs": []
    },
    {
      "cell_type": "code",
      "metadata": {
        "id": "pp52Fepv62mm",
        "colab_type": "code",
        "colab": {}
      },
      "source": [
        "feed_dict_test = {\n",
        "      \n",
        "            x:data.x_test,\n",
        "    y_true:data.y_test,\n",
        "    y_true_cls: data.y_test_cls\n",
        "}"
      ],
      "execution_count": 0,
      "outputs": []
    },
    {
      "cell_type": "code",
      "metadata": {
        "id": "vTdw9OMd7Mom",
        "colab_type": "code",
        "colab": {}
      },
      "source": [
        "def print_accuracy():\n",
        "    # Use TensorFlow to compute the accuracy.\n",
        "    acc = session.run(accuracy, feed_dict=feed_dict_test)\n",
        "    \n",
        "    # Print the accuracy.\n",
        "    print(\"Accuracy on test-set: {0:.1%}\".format(acc))"
      ],
      "execution_count": 0,
      "outputs": []
    },
    {
      "cell_type": "code",
      "metadata": {
        "id": "dusmjhmJ8dlu",
        "colab_type": "code",
        "colab": {}
      },
      "source": [
        "def print_confusion_matrix():\n",
        "    #Get the true classification for the test-set.\n",
        "    cls_true = data.y_test_cls\n",
        "    \n",
        "    #Get the predicted classification for the test-set.\n",
        "    cls_pred = session.run(y_pred_cls,feed_dict = feed_dict_test)\n",
        "    \n",
        "    #Get the confusion matrix using sci-kitlearn\n",
        "    cm = confusion_matrix(y_true=cls_true,\n",
        "                          y_pred = cls_pred\n",
        "                         )\n",
        "    \n",
        "    #print the confusion matrix as text.\n",
        "    print(cm)\n",
        "    \n",
        "    #plot the confusion matrix as an image.\n",
        "    plt.imshow(cm,interpolation ='nearest',cmap=plt.cm.Blues)\n",
        "    \n",
        "    #Make various adjustments to the plot.\n",
        "    plt.tigth_layout()\n",
        "    plt.colorbar()\n",
        "    tick_marks = np.arrange(num_classes)\n",
        "    plt.xticks(tick_marks,range(num_classes))\n",
        "    plt.yticks(tick_marks,range(num_classes))\n",
        "    plt.xlabel('predicted')\n",
        "    plt.ylabel('True')\n",
        "    \n",
        "    \n",
        "    plt.show()"
      ],
      "execution_count": 0,
      "outputs": []
    },
    {
      "cell_type": "code",
      "metadata": {
        "id": "dEmyElJXSKEY",
        "colab_type": "code",
        "colab": {}
      },
      "source": [
        "def plot_example_errors():\n",
        "    #Use TensorFlow to get a list of boolean values\n",
        "    #Whether each test image has been correctly classified,\n",
        "    #and a list for the predicted class of each image.\n",
        "    correct , cls_pred = session.run([correct_prediction,y_pred_cls],\n",
        "                                    feed_dict = feed_dict_test)\n",
        "    #Negate the boolean array.\n",
        "    incorrect = ( correct == False)\n",
        "    \n",
        "    #Get the images from the test-set that have been\n",
        "    #incorrectly classified.\n",
        "    images = data.x_test[incorrect]\n",
        "    \n",
        "    #Get the predicted classes for those images .\n",
        "    cls_pred = cls_pred[incorrect]\n",
        "    \n",
        "    #Get the true classes for those images \n",
        "    cls_true = data.y_test_cls[incorrect]\n",
        "    \n",
        "    #plot the first 9 images \n",
        "    plot_images(images=images[0:9],\n",
        "                cls_true= cls_true[0:9],\n",
        "                cls_pred=cls_pred[0:9])"
      ],
      "execution_count": 0,
      "outputs": []
    },
    {
      "cell_type": "code",
      "metadata": {
        "id": "m85q9wMXWqNJ",
        "colab_type": "code",
        "colab": {}
      },
      "source": [
        "def plot_weights():\n",
        "    #Get the values for the weights from the TensorFlow variable.\n",
        "    w = session.run(weights)\n",
        "    \n",
        "    #Get the lowest and highest values for the weights.\n",
        "    # This is used to correct the color intensity across the \n",
        "    #images so they can be compared with each other.\n",
        "    w_min = np.min(w)\n",
        "    w_max = np.max(w)\n",
        "    \n",
        "    #create figure with 384 subplots\n",
        "    #where the last 2 subplots are unused.\n",
        "    fig,axes = plt.subplots(3,4)\n",
        "    fig.subplots_adjust(hspace=0.3,wspace=0.3)\n",
        "    \n",
        "    for i ,ax in enumerate(axes.flat):\n",
        "        #Only use the weights for the first 10 sub-plots.\n",
        "        if i<10 :\n",
        "            image = w[:,i].reshape(img_shape)\n",
        "            \n",
        "            #Set the label for the sub-plot.\n",
        "            ax.set_xlabel(\"weights: {0}\".format(i))\n",
        "            \n",
        "            #plot the image \n",
        "            ax.imshow(image , vmin=W_min,vmax=w_max,cmap='seismic')\n",
        "         # Remove ticks from each sub plot\n",
        "        ax.set_xticks([])\n",
        "        ax.set_yticks([])\n",
        "\n",
        "    plt.show()"
      ],
      "execution_count": 0,
      "outputs": []
    },
    {
      "cell_type": "code",
      "metadata": {
        "id": "3IYFz3HXgCmz",
        "colab_type": "code",
        "outputId": "5ae28cde-ad36-4242-b10b-008c7d867b0f",
        "colab": {
          "base_uri": "https://localhost:8080/",
          "height": 476
        }
      },
      "source": [
        "for i in range(1,28):\n",
        "  \n",
        "  optimize(num_iterations =i)\n",
        "  print_accuracy()"
      ],
      "execution_count": 26,
      "outputs": [
        {
          "output_type": "stream",
          "text": [
            "Accuracy on test-set: 17.0%\n",
            "Accuracy on test-set: 42.8%\n",
            "Accuracy on test-set: 58.2%\n",
            "Accuracy on test-set: 79.3%\n",
            "Accuracy on test-set: 79.7%\n",
            "Accuracy on test-set: 84.2%\n",
            "Accuracy on test-set: 86.5%\n",
            "Accuracy on test-set: 87.5%\n",
            "Accuracy on test-set: 88.2%\n",
            "Accuracy on test-set: 88.1%\n",
            "Accuracy on test-set: 89.0%\n",
            "Accuracy on test-set: 89.2%\n",
            "Accuracy on test-set: 89.5%\n",
            "Accuracy on test-set: 89.8%\n",
            "Accuracy on test-set: 89.8%\n",
            "Accuracy on test-set: 89.4%\n",
            "Accuracy on test-set: 90.3%\n",
            "Accuracy on test-set: 89.9%\n",
            "Accuracy on test-set: 90.6%\n",
            "Accuracy on test-set: 90.9%\n",
            "Accuracy on test-set: 90.8%\n",
            "Accuracy on test-set: 90.7%\n",
            "Accuracy on test-set: 90.9%\n",
            "Accuracy on test-set: 91.2%\n",
            "Accuracy on test-set: 91.0%\n",
            "Accuracy on test-set: 91.0%\n",
            "Accuracy on test-set: 91.1%\n"
          ],
          "name": "stdout"
        }
      ]
    },
    {
      "cell_type": "code",
      "metadata": {
        "id": "mJjmo9H5alz4",
        "colab_type": "code",
        "colab": {}
      },
      "source": [
        ""
      ],
      "execution_count": 0,
      "outputs": []
    },
    {
      "cell_type": "code",
      "metadata": {
        "id": "mdWMQv5PfyNK",
        "colab_type": "code",
        "outputId": "d3ec7170-fdfc-4997-f2a7-1299a59a4a24",
        "colab": {
          "base_uri": "https://localhost:8080/",
          "height": 266
        }
      },
      "source": [
        "plot_example_errors()"
      ],
      "execution_count": 27,
      "outputs": [
        {
          "output_type": "display_data",
          "data": {
            "image/png": "[encoded data removed]",
            "text/plain": [
              "<Figure size 432x288 with 9 Axes>"
            ]
          },
          "metadata": {
            "tags": []
          }
        }
      ]
    }
  ]
}