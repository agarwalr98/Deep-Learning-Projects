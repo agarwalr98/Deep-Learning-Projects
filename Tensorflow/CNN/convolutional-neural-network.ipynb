{
  "nbformat": 4,
  "nbformat_minor": 0,
  "metadata": {
    "colab": {
      "name": "Untitled1.ipynb",
      "version": "0.3.2",
      "provenance": [],
      "collapsed_sections": []
    },
    "kernelspec": {
      "name": "python3",
      "display_name": "Python 3"
    }
  },
  "cells": [
    {
      "cell_type": "code",
      "metadata": {
        "id": "3s9s_-ddBTor",
        "colab_type": "code",
        "colab": {}
      },
      "source": [
        "%matplotlib inline\n",
        "import matplotlib.pyplot as plt\n",
        "import tensorflow as tf\n",
        "import numpy as np\n",
        "from sklearn.metrics import confusion_matrix\n",
        "import time\n",
        "from datetime import timedelta\n",
        "import math"
      ],
      "execution_count": 0,
      "outputs": []
    },
    {
      "cell_type": "code",
      "metadata": {
        "id": "pVlYAqTpB2r9",
        "colab_type": "code",
        "colab": {}
      },
      "source": [
        "#Convulutional Layer 1.\n",
        "filter_size1 = 5        #Convolutional filters are 5 * 5 pixels.\n",
        "num_filters1 = 16       #There are 16 of these filters.\n",
        "\n",
        "#Convolutional Layer 2.\n",
        "filter_size2 = 5        #Convolutional filters are 5 * 5 pixels.\n",
        "num_filters2= 36        #There are 36 of these filters.\n",
        "\n",
        "#Fully -connected layer.\n",
        "fc_size = 128           # Number of neurons in fully-connected layer."
      ],
      "execution_count": 0,
      "outputs": []
    },
    {
      "cell_type": "code",
      "metadata": {
        "id": "mmG93ml_C7ED",
        "colab_type": "code",
        "outputId": "818f17f0-7879-4418-fde0-bea5cbe4c376",
        "colab": {
          "base_uri": "https://localhost:8080/",
          "height": 34
        }
      },
      "source": [
        "import os\n",
        "work_dir = \"/content/TensorFlow-Tutorials/\"\n",
        "if os.getcwd() != work_dir:\n",
        "  !git clone https://github.com/Hvass-Labs/TensorFlow-Tutorials\n",
        "os.chdir(work_dir)\n",
        "\n",
        "from mnist import MNIST\n",
        "data = MNIST(data_dir=\"data/MNIST/\")"
      ],
      "execution_count": 3,
      "outputs": [
        {
          "output_type": "stream",
          "text": [
            "fatal: destination path 'TensorFlow-Tutorials' already exists and is not an empty directory.\n"
          ],
          "name": "stdout"
        }
      ]
    },
    {
      "cell_type": "code",
      "metadata": {
        "id": "359lG16ODcJZ",
        "colab_type": "code",
        "outputId": "af58c086-ff4e-47c5-a8c7-fa368a677dfb",
        "colab": {
          "base_uri": "https://localhost:8080/",
          "height": 85
        }
      },
      "source": [
        "print(\"Size of :\")\n",
        "print(\"- Training -set:\\t{}\".format(data.num_train))\n",
        "print(\"- Validation-set :\\t{}\".format(data.num_val))\n",
        "print(\"-Test-set :\\t\\t{}\".format(data.num_test))"
      ],
      "execution_count": 4,
      "outputs": [
        {
          "output_type": "stream",
          "text": [
            "Size of :\n",
            "- Training -set:\t55000\n",
            "- Validation-set :\t5000\n",
            "-Test-set :\t\t10000\n"
          ],
          "name": "stdout"
        }
      ]
    },
    {
      "cell_type": "code",
      "metadata": {
        "id": "spFg74LrD9YD",
        "colab_type": "code",
        "outputId": "260a756d-3942-4cb0-ef8d-2958238ad834",
        "colab": {
          "base_uri": "https://localhost:8080/",
          "height": 102
        }
      },
      "source": [
        "#The number of pixels in each dimension of an image.\n",
        "img_size =  data.img_size\n",
        "print(\"img_size \\t{}\".format(img_size))\n",
        "\n",
        "#The images are stored in one-dimensional arrays of this length.\n",
        "img_size_flat = data.img_size_flat\n",
        "print(\"img_size_flat :\\t {}\".format(img_size_flat))\n",
        "\n",
        "#Tuple with heigth and width of images used t reshape arrays.\n",
        "img_shape = data.img_shape\n",
        "print(\"img_shape :\\t {}\".format(img_shape))\n",
        "\n",
        "#Number of classes, one class for eahc of 10 digits.\n",
        "num_classes = data.num_classes\n",
        "print(\"num_classes : \\t {}\".format(num_classes))\n",
        "\n",
        "#Number of colour channels for the images: 1 channel for gray-scale.\n",
        "num_channels = data.num_channels\n",
        "print(\"num_channels : \\t{}\".format(num_channels))"
      ],
      "execution_count": 5,
      "outputs": [
        {
          "output_type": "stream",
          "text": [
            "img_size \t28\n",
            "img_size_flat :\t 784\n",
            "img_shape :\t (28, 28)\n",
            "num_classes : \t 10\n",
            "num_channels : \t1\n"
          ],
          "name": "stdout"
        }
      ]
    },
    {
      "cell_type": "code",
      "metadata": {
        "id": "JtIMJawhGQu1",
        "colab_type": "code",
        "colab": {}
      },
      "source": [
        "def plot_images(images,cls_true,cls_pred = None):\n",
        "    assert len(images) == len(cls_true) ==9\n",
        "  \n",
        "    #Create figure with 3 * 3 sub-plots.\n",
        "    fig,axes = plt.subplots(3,3)\n",
        "    fig.subplots_adjust(hspace = 0.3,wspace = 0.3)\n",
        "    \n",
        "    for i,ax in enumerate(axes.flat):\n",
        "        #Plot image \n",
        "        ax.imshow(images[i].reshape(img_shape),cmap='binary')\n",
        "        \n",
        "        #Show true and predicted classses\n",
        "        if cls_pred is None :\n",
        "            xlabel = \"True :{0}\".format(cls_true[i])\n",
        "        else:\n",
        "            xlabel = \"True : {0},pred: {1}\".format(cls_true[i],cls_pred[i])\n",
        "            \n",
        "        #Show the classes as the label on the x - axis.\n",
        "        ax.set_xlabel(xlabel)\n",
        "        \n",
        "        #Removeticks from the plot.\n",
        "        ax.set_xticks([])\n",
        "        ax.set_yticks([])\n",
        "    #Ensure the plot is shown correctky with multiple plots.\n",
        "    # in a single Notebook cell.\n",
        "    plt.show()"
      ],
      "execution_count": 0,
      "outputs": []
    },
    {
      "cell_type": "code",
      "metadata": {
        "id": "Wflx00pZr1Qg",
        "colab_type": "code",
        "outputId": "20c8da83-baff-40ba-88fa-9cbfb95cd472",
        "colab": {
          "base_uri": "https://localhost:8080/",
          "height": 266
        }
      },
      "source": [
        "# Get the first images from the test-set\n",
        "images = data.x_test[0:9]\n",
        "\n",
        "# Get the true classes for those images.\n",
        "cls_true = data.y_test_cls[0:9]\n",
        "\n",
        "# Plot the images and labels using our helper-function above.\n",
        "plot_images(images=images,cls_true = cls_true)"
      ],
      "execution_count": 7,
      "outputs": [
        {
          "output_type": "display_data",
          "data": {
            "image/png": "[encoded data removed]",
            "text/plain": [
              "<Figure size 432x288 with 9 Axes>"
            ]
          },
          "metadata": {
            "tags": []
          }
        }
      ]
    },
    {
      "cell_type": "code",
      "metadata": {
        "id": "xVCj4vB3zvJM",
        "colab_type": "code",
        "colab": {}
      },
      "source": [
        "def new_weights(shape):\n",
        "    return tf.Variable(tf.truncated_normal(shape,stddev=0.05))\n",
        "  \n",
        "def new_biases(length):\n",
        "    return tf.Variable(tf.constant(0.05,shape=[length]))"
      ],
      "execution_count": 0,
      "outputs": []
    },
    {
      "cell_type": "code",
      "metadata": {
        "id": "CAyM4BZ40Q9C",
        "colab_type": "code",
        "colab": {}
      },
      "source": [
        "def new_conv_layer(input,\n",
        "                  num_input_channels,\n",
        "                  filter_size,\n",
        "                  num_filters,\n",
        "                  use_pooling = True):\n",
        "  \n",
        "    shape = [filter_size,filter_size,num_input_channels,num_filters]\n",
        "    \n",
        "    weights = new_weights(shape = shape)\n",
        "    \n",
        "    biases = new_biases(length= num_filters)\n",
        "    \n",
        "    layer = tf.nn.conv2d(input = input,\n",
        "                        filter = weights,\n",
        "                        strides =[1,1,1,1],\n",
        "                        padding ='SAME')\n",
        "      \n",
        "    layer += biases\n",
        "    \n",
        "    #Use pooling to downsampling the image resolution.\n",
        "    if use_pooling:\n",
        "        layer = tf.nn.max_pool(value=layer,\n",
        "                              ksize=[1,2,2,1],\n",
        "                              strides=[1,2,2,1],\n",
        "                              padding = 'SAME')\n",
        "    layer = tf.nn.relu(layer)\n",
        "    \n",
        "    return layer,weights\n",
        "    \n",
        "    "
      ],
      "execution_count": 0,
      "outputs": []
    },
    {
      "cell_type": "code",
      "metadata": {
        "id": "UkCqT7gzL5gk",
        "colab_type": "code",
        "colab": {}
      },
      "source": [
        "#A convulational layer produces an output tensor of 4 dimension where as fully connected require input with two d variable.\n",
        "def flatten_layer(layer):\n",
        "    #Get the shape of input layer\n",
        "    layer_shape = layer.get_shape()\n",
        "    \n",
        "    \n",
        "    num_features = layer_shape[1:4].num_elements()\n",
        "    \n",
        "    layer_flat = tf.reshape(layer,[-1,num_features])\n",
        "    \n",
        "    return layer_flat,num_features"
      ],
      "execution_count": 0,
      "outputs": []
    },
    {
      "cell_type": "code",
      "metadata": {
        "id": "V8D_gIC1Ogt6",
        "colab_type": "code",
        "colab": {}
      },
      "source": [
        "def  new_fc_layer(input,\n",
        "                  num_inputs,\n",
        "                    num_outputs,\n",
        "                  use_relu = True ):\n",
        "\n",
        "    weights = new_weights(shape = [num_inputs,num_outputs])\n",
        "    biases = new_biases(length =num_outputs)    \n",
        "    layer= tf.matmul(input,weights)+biases  \n",
        "    if use_relu :\n",
        "        layer = tf.nn.relu(layer)\n",
        "    return layer"
      ],
      "execution_count": 0,
      "outputs": []
    },
    {
      "cell_type": "code",
      "metadata": {
        "id": "p_1Uzl9AP5pn",
        "colab_type": "code",
        "colab": {}
      },
      "source": [
        "#placeholder varaiable\n",
        "x= tf.placeholder(tf.float32,shape=[None,img_size_flat],name='x')\n",
        "\n",
        "x_image = tf.reshape(x,[-1,img_size,img_size,num_channels])\n",
        "\n",
        "y_true = tf.placeholder(tf.float32,shape=[None,num_classes],name = 'y_true')\n",
        "y_true_cls = tf.argmax(y_true,axis = 1)"
      ],
      "execution_count": 0,
      "outputs": []
    },
    {
      "cell_type": "code",
      "metadata": {
        "id": "4NZD8oTIRRTj",
        "colab_type": "code",
        "colab": {}
      },
      "source": [
        "# Convolutional layer1\n",
        "layer_conv1, weights_conv1 = \\\n",
        "                  new_conv_layer(input = x_image,\n",
        "                                num_input_channels = num_channels,\n",
        "                                filter_size=filter_size1,\n",
        "                                num_filters = num_filters1,\n",
        "                                use_pooling = True)"
      ],
      "execution_count": 0,
      "outputs": []
    },
    {
      "cell_type": "code",
      "metadata": {
        "id": "4Mjxsmz7Szwb",
        "colab_type": "code",
        "outputId": "5831a1b3-a7da-4e7b-afde-1e6b32f57c3c",
        "colab": {
          "base_uri": "https://localhost:8080/",
          "height": 34
        }
      },
      "source": [
        "layer_conv1"
      ],
      "execution_count": 14,
      "outputs": [
        {
          "output_type": "execute_result",
          "data": {
            "text/plain": [
              "<tf.Tensor 'Relu:0' shape=(?, 14, 14, 16) dtype=float32>"
            ]
          },
          "metadata": {
            "tags": []
          },
          "execution_count": 14
        }
      ]
    },
    {
      "cell_type": "code",
      "metadata": {
        "id": "wV2pczjTTpiD",
        "colab_type": "code",
        "outputId": "f37538e7-43a9-4f7f-889a-d56e8450fc99",
        "colab": {
          "base_uri": "https://localhost:8080/",
          "height": 34
        }
      },
      "source": [
        "weights_conv1"
      ],
      "execution_count": 15,
      "outputs": [
        {
          "output_type": "execute_result",
          "data": {
            "text/plain": [
              "<tf.Variable 'Variable:0' shape=(5, 5, 1, 16) dtype=float32_ref>"
            ]
          },
          "metadata": {
            "tags": []
          },
          "execution_count": 15
        }
      ]
    },
    {
      "cell_type": "code",
      "metadata": {
        "id": "1Kdv54ZiTsnM",
        "colab_type": "code",
        "colab": {}
      },
      "source": [
        "# Convolutional layer2\n",
        "layer_conv2,weights_conv2 = \\\n",
        "              new_conv_layer(input= layer_conv1,\n",
        "                            num_input_channels = num_filters1,\n",
        "                            filter_size = filter_size2,\n",
        "                            num_filters = num_filters2, \n",
        "                            use_pooling = True)"
      ],
      "execution_count": 0,
      "outputs": []
    },
    {
      "cell_type": "code",
      "metadata": {
        "id": "pelZn9ygUKmB",
        "colab_type": "code",
        "outputId": "ddd186b9-b614-4583-c279-fd858bdec0ec",
        "colab": {
          "base_uri": "https://localhost:8080/",
          "height": 34
        }
      },
      "source": [
        "layer_conv2"
      ],
      "execution_count": 17,
      "outputs": [
        {
          "output_type": "execute_result",
          "data": {
            "text/plain": [
              "<tf.Tensor 'Relu_1:0' shape=(?, 7, 7, 36) dtype=float32>"
            ]
          },
          "metadata": {
            "tags": []
          },
          "execution_count": 17
        }
      ]
    },
    {
      "cell_type": "code",
      "metadata": {
        "id": "Cj44xgYHUUMb",
        "colab_type": "code",
        "outputId": "00545781-5b73-473f-e673-98532510a8ce",
        "colab": {
          "base_uri": "https://localhost:8080/",
          "height": 34
        }
      },
      "source": [
        "weights_conv2"
      ],
      "execution_count": 18,
      "outputs": [
        {
          "output_type": "execute_result",
          "data": {
            "text/plain": [
              "<tf.Variable 'Variable_2:0' shape=(5, 5, 16, 36) dtype=float32_ref>"
            ]
          },
          "metadata": {
            "tags": []
          },
          "execution_count": 18
        }
      ]
    },
    {
      "cell_type": "code",
      "metadata": {
        "id": "zxjsumAtU6rm",
        "colab_type": "code",
        "outputId": "5b90f623-eb81-4b4a-a3fe-3fbf85927563",
        "colab": {
          "base_uri": "https://localhost:8080/",
          "height": 34
        }
      },
      "source": [
        "layer_flat ,num_features = flatten_layer(layer_conv2)\n",
        "\n",
        "layer_flat\n",
        "num_features"
      ],
      "execution_count": 19,
      "outputs": [
        {
          "output_type": "execute_result",
          "data": {
            "text/plain": [
              "1764"
            ]
          },
          "metadata": {
            "tags": []
          },
          "execution_count": 19
        }
      ]
    },
    {
      "cell_type": "code",
      "metadata": {
        "id": "IRS5WVv9VUE0",
        "colab_type": "code",
        "colab": {}
      },
      "source": [
        "# Fully connected layer1\n",
        "layer_fc1 = new_fc_layer(input = layer_flat,\n",
        "                        num_inputs=num_features,\n",
        "                        num_outputs = fc_size,\n",
        "                        use_relu = True)"
      ],
      "execution_count": 0,
      "outputs": []
    },
    {
      "cell_type": "code",
      "metadata": {
        "id": "Np8nUFB3WCHC",
        "colab_type": "code",
        "outputId": "cb230722-1762-483c-ff66-695395d4b132",
        "colab": {
          "base_uri": "https://localhost:8080/",
          "height": 34
        }
      },
      "source": [
        "layer_fc1"
      ],
      "execution_count": 21,
      "outputs": [
        {
          "output_type": "execute_result",
          "data": {
            "text/plain": [
              "<tf.Tensor 'Relu_2:0' shape=(?, 128) dtype=float32>"
            ]
          },
          "metadata": {
            "tags": []
          },
          "execution_count": 21
        }
      ]
    },
    {
      "cell_type": "code",
      "metadata": {
        "id": "dbC93BD_WEed",
        "colab_type": "code",
        "colab": {}
      },
      "source": [
        "#second fully connected layer2\n",
        "layer_fc2 = new_fc_layer(input = layer_fc1,\n",
        "                         num_inputs = fc_size,\n",
        "                        num_outputs = num_classes,\n",
        "                        use_relu = True)"
      ],
      "execution_count": 0,
      "outputs": []
    },
    {
      "cell_type": "code",
      "metadata": {
        "id": "UxtUM8SPWfFA",
        "colab_type": "code",
        "outputId": "1eaf5ce2-9ee2-48b7-babc-60993c4db075",
        "colab": {
          "base_uri": "https://localhost:8080/",
          "height": 34
        }
      },
      "source": [
        "layer_fc2"
      ],
      "execution_count": 23,
      "outputs": [
        {
          "output_type": "execute_result",
          "data": {
            "text/plain": [
              "<tf.Tensor 'Relu_3:0' shape=(?, 10) dtype=float32>"
            ]
          },
          "metadata": {
            "tags": []
          },
          "execution_count": 23
        }
      ]
    },
    {
      "cell_type": "code",
      "metadata": {
        "id": "PJdoXEUoWm3F",
        "colab_type": "code",
        "colab": {}
      },
      "source": [
        "y_pred = tf.nn.softmax(layer_fc2)\n",
        "\n",
        "y_pred_cls = tf.argmax(y_pred,axis =1 )"
      ],
      "execution_count": 0,
      "outputs": []
    },
    {
      "cell_type": "code",
      "metadata": {
        "id": "kfDpyzkVXDuS",
        "colab_type": "code",
        "colab": {
          "base_uri": "https://localhost:8080/",
          "height": 190
        },
        "outputId": "eb59d1f7-342d-4c84-cc66-a3d02385cb83"
      },
      "source": [
        "#cross_entropy is to be optimized and it consist of average loss of all images in a batch_size.\n",
        "cross_entropy = tf.nn.softmax_cross_entropy_with_logits(logits= layer_fc2,labels = y_true)"
      ],
      "execution_count": 25,
      "outputs": [
        {
          "output_type": "stream",
          "text": [
            "WARNING: Logging before flag parsing goes to stderr.\n",
            "W0730 14:56:09.076933 140371470706560 deprecation.py:323] From <ipython-input-25-75c030ed10f1>:1: softmax_cross_entropy_with_logits (from tensorflow.python.ops.nn_ops) is deprecated and will be removed in a future version.\n",
            "Instructions for updating:\n",
            "\n",
            "Future major versions of TensorFlow will allow gradients to flow\n",
            "into the labels input on backprop by default.\n",
            "\n",
            "See `tf.nn.softmax_cross_entropy_with_logits_v2`.\n",
            "\n"
          ],
          "name": "stderr"
        }
      ]
    },
    {
      "cell_type": "code",
      "metadata": {
        "id": "ktqdpNP7X8sS",
        "colab_type": "code",
        "colab": {}
      },
      "source": [
        "cost = tf.reduce_mean(cross_entropy)"
      ],
      "execution_count": 0,
      "outputs": []
    },
    {
      "cell_type": "code",
      "metadata": {
        "id": "gIsPDrqAYBVP",
        "colab_type": "code",
        "colab": {}
      },
      "source": [
        "# Optimizer\n",
        "optimizer = tf.train.AdamOptimizer(learning_rate= 1e-4).minimize(cost)"
      ],
      "execution_count": 0,
      "outputs": []
    },
    {
      "cell_type": "code",
      "metadata": {
        "id": "COvElyYvYFKf",
        "colab_type": "code",
        "colab": {}
      },
      "source": [
        "#performance measure\n",
        "correct_prediction = tf.equal(y_pred_cls,y_true_cls)\n",
        "accuracy = tf.reduce_mean(tf.cast(correct_prediction,tf.float32))"
      ],
      "execution_count": 0,
      "outputs": []
    },
    {
      "cell_type": "code",
      "metadata": {
        "id": "SpVEbPkgYiB3",
        "colab_type": "code",
        "colab": {}
      },
      "source": [
        "#Once the tensorflow graph has been created, we need to create a tensorflow session which is used to execute the graph."
      ],
      "execution_count": 0,
      "outputs": []
    },
    {
      "cell_type": "code",
      "metadata": {
        "id": "I6OD4jGSY0Pi",
        "colab_type": "code",
        "colab": {}
      },
      "source": [
        "session = tf.Session()\n",
        "session.run(tf.global_variables_initializer())"
      ],
      "execution_count": 0,
      "outputs": []
    },
    {
      "cell_type": "code",
      "metadata": {
        "id": "BRZ0lsp4Y9bc",
        "colab_type": "code",
        "colab": {}
      },
      "source": [
        "train_batch_size = 32"
      ],
      "execution_count": 0,
      "outputs": []
    },
    {
      "cell_type": "code",
      "metadata": {
        "id": "KmDieMqxZAXN",
        "colab_type": "code",
        "colab": {}
      },
      "source": [
        "#Counter for total number of iteration performed  so far.\n",
        "total_iterations =0\n",
        "def optimize(num_iterations):\n",
        "    #Ensure we update a global variable rather than a local copy.\n",
        "    global total_iterations\n",
        "    \n",
        "    #start -time use dfor printing time-usage below.\n",
        "    start_time = time.time()\n",
        "    \n",
        "    for i in range(total_iterations,\n",
        "                  total_iterations + num_iterations):\n",
        "        x_batch,y_true_batch , _  = data.random_batch(batch_size= train_batch_size)\n",
        "        \n",
        "        feed_dict_train = {x: x_batch,\n",
        "                        y_true : y_true_batch}\n",
        "      \n",
        "        session.run(optimizer,feed_dict = feed_dict_train)\n",
        "      \n",
        "        if i % 100 ==0 :\n",
        "            acc = session.run(accuracy,feed_dict=feed_dict_train)\n",
        "        \n",
        "            msg = \"Optimization Iteration: {0:>6}, Training Accuracy: {1:>6.1%}\"\n",
        "        \n",
        "            print(msg.format(i +1,acc))\n",
        "    total_iterations += num_iterations\n",
        "    \n",
        "    end_time = time.time()\n",
        "    \n",
        "    time_dif = end_time - start_time\n",
        "    \n",
        "    print(\"Time usage: \"+ str(timedelta(seconds=int(round(time_dif)))))"
      ],
      "execution_count": 0,
      "outputs": []
    },
    {
      "cell_type": "code",
      "metadata": {
        "id": "BOct6djbiF1z",
        "colab_type": "code",
        "colab": {}
      },
      "source": [
        "# Split the test-set into smaller batches of this size.\n",
        "test_batch_size = 256\n",
        "\n",
        "def print_test_accuracy(show_example_errors=False,\n",
        "                        show_confusion_matrix=False):\n",
        "\n",
        "    # Number of images in the test-set.\n",
        "    num_test = data.num_test\n",
        "\n",
        "    # Allocate an array for the predicted classes which\n",
        "    # will be calculated in batches and filled into this array.\n",
        "    cls_pred = np.zeros(shape=num_test, dtype=np.int)\n",
        "\n",
        "    # Now calculate the predicted classes for the batches.\n",
        "    # We will just iterate through all the batches.\n",
        "    # There might be a more clever and Pythonic way of doing this.\n",
        "\n",
        "    # The starting index for the next batch is denoted i.\n",
        "    i = 0\n",
        "\n",
        "    while i < num_test:\n",
        "        # The ending index for the next batch is denoted j.\n",
        "        j = min(i + test_batch_size, num_test)\n",
        "\n",
        "        # Get the images from the test-set between index i and j.\n",
        "        images = data.x_test[i:j, :]\n",
        "\n",
        "        # Get the associated labels.\n",
        "        labels = data.y_test[i:j, :]\n",
        "\n",
        "        # Create a feed-dict with these images and labels.\n",
        "        feed_dict = {x: images,\n",
        "                     y_true: labels}\n",
        "\n",
        "        # Calculate the predicted class using TensorFlow.\n",
        "        cls_pred[i:j] = session.run(y_pred_cls, feed_dict=feed_dict)\n",
        "\n",
        "        # Set the start-index for the next batch to the\n",
        "        # end-index of the current batch.\n",
        "        i = j\n",
        "\n",
        "    # Convenience variable for the true class-numbers of the test-set.\n",
        "    cls_true = data.y_test_cls\n",
        "\n",
        "    # Create a boolean array whether each image is correctly classified.\n",
        "    correct = (cls_true == cls_pred)\n",
        "\n",
        "    # Calculate the number of correctly classified images.\n",
        "    # When summing a boolean array, False means 0 and True means 1.\n",
        "    correct_sum = correct.sum()\n",
        "\n",
        "    # Classification accuracy is the number of correctly classified\n",
        "    # images divided by the total number of images in the test-set.\n",
        "    acc = float(correct_sum) / num_test\n",
        "\n",
        "    # Print the accuracy.\n",
        "    msg = \"Accuracy on Test-Set: {0:.1%} ({1} / {2})\"\n",
        "    print(msg.format(acc, correct_sum, num_test))\n",
        "\n",
        "    # Plot some examples of mis-classifications, if desired.\n",
        "    if show_example_errors:\n",
        "        print(\"Example errors:\")\n",
        "        plot_example_errors(cls_pred=cls_pred, correct=correct)\n",
        "\n",
        "    "
      ],
      "execution_count": 0,
      "outputs": []
    },
    {
      "cell_type": "code",
      "metadata": {
        "id": "EuOiSNkniPYn",
        "colab_type": "code",
        "outputId": "481f3f8b-1e99-4002-9b79-1d1be78e5fb8",
        "colab": {
          "base_uri": "https://localhost:8080/",
          "height": 1000
        }
      },
      "source": [
        "for i in range(0,100):\n",
        "  \n",
        "  optimize(num_iterations=i)\n",
        "  print(\"iterration number : \\t{}\".format(i))\n",
        "  print_test_accuracy()"
      ],
      "execution_count": 0,
      "outputs": [
        {
          "output_type": "stream",
          "text": [
            "Time usage: 0:00:00\n",
            "iterration number : \t0\n",
            "Accuracy on Test-Set: 11.7% (1165 / 10000)\n",
            "Optimization Iteration:      1, Training Accuracy:  12.5%\n",
            "Time usage: 0:00:00\n",
            "iterration number : \t1\n",
            "Accuracy on Test-Set: 11.9% (1186 / 10000)\n",
            "Time usage: 0:00:00\n",
            "iterration number : \t2\n",
            "Accuracy on Test-Set: 12.5% (1246 / 10000)\n",
            "Time usage: 0:00:00\n",
            "iterration number : \t3\n",
            "Accuracy on Test-Set: 12.6% (1262 / 10000)\n",
            "Time usage: 0:00:00\n",
            "iterration number : \t4\n",
            "Accuracy on Test-Set: 13.9% (1388 / 10000)\n",
            "Time usage: 0:00:00\n",
            "iterration number : \t5\n",
            "Accuracy on Test-Set: 28.7% (2866 / 10000)\n",
            "Time usage: 0:00:00\n",
            "iterration number : \t6\n",
            "Accuracy on Test-Set: 34.8% (3482 / 10000)\n",
            "Time usage: 0:00:00\n",
            "iterration number : \t7\n",
            "Accuracy on Test-Set: 36.0% (3604 / 10000)\n",
            "Time usage: 0:00:00\n",
            "iterration number : \t8\n",
            "Accuracy on Test-Set: 32.9% (3287 / 10000)\n",
            "Time usage: 0:00:00\n",
            "iterration number : \t9\n",
            "Accuracy on Test-Set: 53.0% (5298 / 10000)\n",
            "Time usage: 0:00:00\n",
            "iterration number : \t10\n",
            "Accuracy on Test-Set: 43.0% (4302 / 10000)\n",
            "Time usage: 0:00:00\n",
            "iterration number : \t11\n",
            "Accuracy on Test-Set: 38.5% (3845 / 10000)\n",
            "Time usage: 0:00:00\n",
            "iterration number : \t12\n",
            "Accuracy on Test-Set: 48.1% (4814 / 10000)\n",
            "Time usage: 0:00:00\n",
            "iterration number : \t13\n",
            "Accuracy on Test-Set: 59.6% (5956 / 10000)\n",
            "Optimization Iteration:    101, Training Accuracy:  40.6%\n",
            "Time usage: 0:00:01\n",
            "iterration number : \t14\n",
            "Accuracy on Test-Set: 54.8% (5479 / 10000)\n",
            "Time usage: 0:00:01\n",
            "iterration number : \t15\n",
            "Accuracy on Test-Set: 66.2% (6618 / 10000)\n",
            "Time usage: 0:00:01\n",
            "iterration number : \t16\n",
            "Accuracy on Test-Set: 63.2% (6324 / 10000)\n",
            "Time usage: 0:00:01\n",
            "iterration number : \t17\n",
            "Accuracy on Test-Set: 64.8% (6484 / 10000)\n",
            "Time usage: 0:00:01\n",
            "iterration number : \t18\n",
            "Accuracy on Test-Set: 68.4% (6842 / 10000)\n",
            "Time usage: 0:00:01\n",
            "iterration number : \t19\n",
            "Accuracy on Test-Set: 73.1% (7314 / 10000)\n",
            "Optimization Iteration:    201, Training Accuracy:  81.2%\n",
            "Time usage: 0:00:01\n",
            "iterration number : \t20\n",
            "Accuracy on Test-Set: 70.6% (7063 / 10000)\n",
            "Time usage: 0:00:01\n",
            "iterration number : \t21\n",
            "Accuracy on Test-Set: 71.8% (7181 / 10000)\n",
            "Time usage: 0:00:01\n",
            "iterration number : \t22\n",
            "Accuracy on Test-Set: 73.5% (7353 / 10000)\n",
            "Time usage: 0:00:01\n",
            "iterration number : \t23\n",
            "Accuracy on Test-Set: 75.5% (7546 / 10000)\n",
            "Time usage: 0:00:01\n",
            "iterration number : \t24\n",
            "Accuracy on Test-Set: 78.7% (7873 / 10000)\n",
            "Optimization Iteration:    301, Training Accuracy:  81.2%\n",
            "Time usage: 0:00:01\n",
            "iterration number : \t25\n",
            "Accuracy on Test-Set: 78.2% (7824 / 10000)\n",
            "Time usage: 0:00:01\n",
            "iterration number : \t26\n",
            "Accuracy on Test-Set: 79.3% (7928 / 10000)\n",
            "Time usage: 0:00:01\n",
            "iterration number : \t27\n",
            "Accuracy on Test-Set: 79.9% (7991 / 10000)\n",
            "Optimization Iteration:    401, Training Accuracy:  75.0%\n",
            "Time usage: 0:00:01\n",
            "iterration number : \t28\n",
            "Accuracy on Test-Set: 80.5% (8050 / 10000)\n",
            "Time usage: 0:00:01\n",
            "iterration number : \t29\n",
            "Accuracy on Test-Set: 80.8% (8080 / 10000)\n",
            "Time usage: 0:00:01\n",
            "iterration number : \t30\n",
            "Accuracy on Test-Set: 81.3% (8134 / 10000)\n",
            "Time usage: 0:00:01\n",
            "iterration number : \t31\n",
            "Accuracy on Test-Set: 80.9% (8094 / 10000)\n",
            "Optimization Iteration:    501, Training Accuracy:  75.0%\n",
            "Time usage: 0:00:01\n",
            "iterration number : \t32\n",
            "Accuracy on Test-Set: 81.4% (8144 / 10000)\n",
            "Time usage: 0:00:01\n",
            "iterration number : \t33\n",
            "Accuracy on Test-Set: 80.8% (8083 / 10000)\n",
            "Time usage: 0:00:01\n",
            "iterration number : \t34\n",
            "Accuracy on Test-Set: 82.0% (8203 / 10000)\n",
            "Optimization Iteration:    601, Training Accuracy:  87.5%\n",
            "Time usage: 0:00:01\n",
            "iterration number : \t35\n",
            "Accuracy on Test-Set: 82.3% (8232 / 10000)\n",
            "Time usage: 0:00:01\n",
            "iterration number : \t36\n",
            "Accuracy on Test-Set: 82.8% (8281 / 10000)\n",
            "Optimization Iteration:    701, Training Accuracy:  75.0%\n",
            "Time usage: 0:00:01\n",
            "iterration number : \t37\n",
            "Accuracy on Test-Set: 82.7% (8271 / 10000)\n",
            "Time usage: 0:00:02\n",
            "iterration number : \t38\n",
            "Accuracy on Test-Set: 82.5% (8254 / 10000)\n",
            "Time usage: 0:00:02\n",
            "iterration number : \t39\n",
            "Accuracy on Test-Set: 82.2% (8221 / 10000)\n",
            "Optimization Iteration:    801, Training Accuracy:  84.4%\n",
            "Time usage: 0:00:02\n",
            "iterration number : \t40\n",
            "Accuracy on Test-Set: 83.5% (8345 / 10000)\n",
            "Time usage: 0:00:02\n",
            "iterration number : \t41\n",
            "Accuracy on Test-Set: 83.5% (8349 / 10000)\n",
            "Optimization Iteration:    901, Training Accuracy:  81.2%\n",
            "Time usage: 0:00:02\n",
            "iterration number : \t42\n",
            "Accuracy on Test-Set: 83.5% (8352 / 10000)\n",
            "Time usage: 0:00:02\n",
            "iterration number : \t43\n",
            "Accuracy on Test-Set: 83.5% (8345 / 10000)\n",
            "Time usage: 0:00:02\n",
            "iterration number : \t44\n",
            "Accuracy on Test-Set: 84.1% (8410 / 10000)\n",
            "Optimization Iteration:   1001, Training Accuracy:  81.2%\n",
            "Time usage: 0:00:02\n",
            "iterration number : \t45\n",
            "Accuracy on Test-Set: 84.0% (8404 / 10000)\n",
            "Time usage: 0:00:02\n",
            "iterration number : \t46\n",
            "Accuracy on Test-Set: 84.0% (8402 / 10000)\n",
            "Optimization Iteration:   1101, Training Accuracy:  81.2%\n",
            "Time usage: 0:00:02\n",
            "iterration number : \t47\n",
            "Accuracy on Test-Set: 83.9% (8394 / 10000)\n",
            "Time usage: 0:00:02\n",
            "iterration number : \t48\n",
            "Accuracy on Test-Set: 84.7% (8466 / 10000)\n",
            "Optimization Iteration:   1201, Training Accuracy:  90.6%\n",
            "Time usage: 0:00:02\n",
            "iterration number : \t49\n",
            "Accuracy on Test-Set: 84.6% (8461 / 10000)\n",
            "Time usage: 0:00:02\n",
            "iterration number : \t50\n",
            "Accuracy on Test-Set: 84.7% (8470 / 10000)\n",
            "Optimization Iteration:   1301, Training Accuracy:  93.8%\n",
            "Time usage: 0:00:02\n",
            "iterration number : \t51\n",
            "Accuracy on Test-Set: 84.7% (8468 / 10000)\n",
            "Time usage: 0:00:02\n",
            "iterration number : \t52\n",
            "Accuracy on Test-Set: 84.9% (8487 / 10000)\n",
            "Optimization Iteration:   1401, Training Accuracy:  84.4%\n",
            "Time usage: 0:00:02\n",
            "iterration number : \t53\n",
            "Accuracy on Test-Set: 85.1% (8512 / 10000)\n",
            "Time usage: 0:00:02\n",
            "iterration number : \t54\n",
            "Accuracy on Test-Set: 84.9% (8493 / 10000)\n",
            "Optimization Iteration:   1501, Training Accuracy:  87.5%\n",
            "Time usage: 0:00:02\n",
            "iterration number : \t55\n",
            "Accuracy on Test-Set: 85.3% (8532 / 10000)\n",
            "Time usage: 0:00:02\n",
            "iterration number : \t56\n",
            "Accuracy on Test-Set: 85.4% (8536 / 10000)\n",
            "Optimization Iteration:   1601, Training Accuracy:  81.2%\n",
            "Time usage: 0:00:02\n",
            "iterration number : \t57\n",
            "Accuracy on Test-Set: 85.2% (8520 / 10000)\n",
            "Optimization Iteration:   1701, Training Accuracy:  81.2%\n",
            "Time usage: 0:00:02\n",
            "iterration number : \t58\n",
            "Accuracy on Test-Set: 85.3% (8526 / 10000)\n",
            "Time usage: 0:00:02\n",
            "iterration number : \t59\n",
            "Accuracy on Test-Set: 85.7% (8565 / 10000)\n",
            "Optimization Iteration:   1801, Training Accuracy:  87.5%\n",
            "Time usage: 0:00:02\n",
            "iterration number : \t60\n",
            "Accuracy on Test-Set: 85.3% (8534 / 10000)\n",
            "Time usage: 0:00:02\n",
            "iterration number : \t61\n",
            "Accuracy on Test-Set: 86.0% (8597 / 10000)\n",
            "Optimization Iteration:   1901, Training Accuracy:  90.6%\n",
            "Time usage: 0:00:02\n",
            "iterration number : \t62\n"
          ],
          "name": "stdout"
        }
      ]
    }
  ]
}